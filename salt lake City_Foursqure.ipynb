{
 "cells": [
  {
   "cell_type": "code",
   "execution_count": 1,
   "metadata": {},
   "outputs": [
    {
     "name": "stdout",
     "output_type": "stream",
     "text": [
      "Libraries imported.\n"
     ]
    }
   ],
   "source": [
    "import numpy as np\n",
    "import pandas as pd\n",
    "pd.set_option('display.max_columns', None)\n",
    "pd.set_option('display.max_rows', None)\n",
    "\n",
    "#!conda install -c conda-forge geopy --yes\n",
    "from geopy.geocoders import Nominatim\n",
    "import urllib.request\n",
    "import json\n",
    "from bs4 import BeautifulSoup\n",
    "from urllib.request import urlopen\n",
    "import requests\n",
    "from pandas.io.json import json_normalize\n",
    "\n",
    "import matplotlib.cm as cm\n",
    "import matplotlib.colors as colors\n",
    "# Matplotlib and associated plotting modules\n",
    "import matplotlib.cm as cm\n",
    "import matplotlib.pyplot as plt\n",
    "import matplotlib.colors as colors\n",
    "%matplotlib inline\n",
    "from sklearn.cluster import KMeans\n",
    "\n",
    "#!conda install -c conda-forge folium=0.5.0 --yes\n",
    "import folium\n",
    "\n",
    "print('Libraries imported.')"
   ]
  },
  {
   "cell_type": "code",
   "execution_count": 2,
   "metadata": {},
   "outputs": [
    {
     "data": {
      "text/html": [
       "<div>\n",
       "<style scoped>\n",
       "    .dataframe tbody tr th:only-of-type {\n",
       "        vertical-align: middle;\n",
       "    }\n",
       "\n",
       "    .dataframe tbody tr th {\n",
       "        vertical-align: top;\n",
       "    }\n",
       "\n",
       "    .dataframe thead th {\n",
       "        text-align: right;\n",
       "    }\n",
       "</style>\n",
       "<table border=\"1\" class=\"dataframe\">\n",
       "  <thead>\n",
       "    <tr style=\"text-align: right;\">\n",
       "      <th></th>\n",
       "      <th>Unnamed: 0</th>\n",
       "      <th>﻿case</th>\n",
       "      <th>ncic code</th>\n",
       "      <th>description</th>\n",
       "      <th>ibr</th>\n",
       "      <th>occurred</th>\n",
       "      <th>reported</th>\n",
       "      <th>day of week</th>\n",
       "      <th>location</th>\n",
       "      <th>city</th>\n",
       "      <th>city council</th>\n",
       "      <th>police zone</th>\n",
       "      <th>police grid</th>\n",
       "      <th>y_coordinate</th>\n",
       "      <th>x_coordinate</th>\n",
       "      <th>x_gps_coords</th>\n",
       "      <th>y_gps_coords</th>\n",
       "    </tr>\n",
       "  </thead>\n",
       "  <tbody>\n",
       "    <tr>\n",
       "      <th>0</th>\n",
       "      <td>0</td>\n",
       "      <td>SL201624</td>\n",
       "      <td>2499-13</td>\n",
       "      <td>STOLEN VEHICLE</td>\n",
       "      <td>240</td>\n",
       "      <td>01/01/2016 12:36:15 AM</td>\n",
       "      <td>01/01/2016 12:36:15 AM</td>\n",
       "      <td>6</td>\n",
       "      <td>1400 S EMERY ST                               ...</td>\n",
       "      <td>SALT LAKE CITY</td>\n",
       "      <td>2</td>\n",
       "      <td>Z2</td>\n",
       "      <td>123</td>\n",
       "      <td>876155.0</td>\n",
       "      <td>1882550.0</td>\n",
       "      <td>-111.924569</td>\n",
       "      <td>40.737917</td>\n",
       "    </tr>\n",
       "    <tr>\n",
       "      <th>1</th>\n",
       "      <td>1</td>\n",
       "      <td>SL201637</td>\n",
       "      <td>5404-0</td>\n",
       "      <td>DUI ALCOHOL</td>\n",
       "      <td>90D</td>\n",
       "      <td>01/01/2016 01:00:24 AM</td>\n",
       "      <td>01/01/2016 01:00:24 AM</td>\n",
       "      <td>6</td>\n",
       "      <td>200 W 500 S                                   ...</td>\n",
       "      <td>SALT LAKE CITY</td>\n",
       "      <td>4</td>\n",
       "      <td>Z3</td>\n",
       "      <td>134</td>\n",
       "      <td>883639.0</td>\n",
       "      <td>1890252.0</td>\n",
       "      <td>-111.896897</td>\n",
       "      <td>40.758555</td>\n",
       "    </tr>\n",
       "    <tr>\n",
       "      <th>2</th>\n",
       "      <td>2</td>\n",
       "      <td>SL201656</td>\n",
       "      <td>5404-0</td>\n",
       "      <td>DUI ALCOHOL</td>\n",
       "      <td>90D</td>\n",
       "      <td>01/01/2016 01:23:44 AM</td>\n",
       "      <td>01/01/2016 01:23:44 AM</td>\n",
       "      <td>6</td>\n",
       "      <td>400 S WEST TEMPLE ST                          ...</td>\n",
       "      <td>SALT LAKE CITY</td>\n",
       "      <td>4</td>\n",
       "      <td>Z3</td>\n",
       "      <td>135</td>\n",
       "      <td>883995.0</td>\n",
       "      <td>1891039.0</td>\n",
       "      <td>-111.894062</td>\n",
       "      <td>40.759542</td>\n",
       "    </tr>\n",
       "    <tr>\n",
       "      <th>3</th>\n",
       "      <td>3</td>\n",
       "      <td>SL201648</td>\n",
       "      <td>5499-44</td>\n",
       "      <td>ALCOHOL IN VEH</td>\n",
       "      <td>90D</td>\n",
       "      <td>01/01/2016 01:10:27 AM</td>\n",
       "      <td>01/01/2016 01:10:27 AM</td>\n",
       "      <td>6</td>\n",
       "      <td>NaN</td>\n",
       "      <td>SALT LAKE CITY</td>\n",
       "      <td>SL</td>\n",
       "      <td>40</td>\n",
       "      <td>40</td>\n",
       "      <td>890270.0</td>\n",
       "      <td>1869739.0</td>\n",
       "      <td>-111.971064</td>\n",
       "      <td>40.776482</td>\n",
       "    </tr>\n",
       "    <tr>\n",
       "      <th>4</th>\n",
       "      <td>4</td>\n",
       "      <td>SL201660</td>\n",
       "      <td>5404-0</td>\n",
       "      <td>DUI ALCOHOL</td>\n",
       "      <td>90D</td>\n",
       "      <td>01/01/2016 01:33:42 AM</td>\n",
       "      <td>01/01/2016 01:33:42 AM</td>\n",
       "      <td>6</td>\n",
       "      <td>900 S MAIN ST                                 ...</td>\n",
       "      <td>SALT LAKE CITY</td>\n",
       "      <td>5</td>\n",
       "      <td>Z5</td>\n",
       "      <td>152</td>\n",
       "      <td>880413.0</td>\n",
       "      <td>1891819.0</td>\n",
       "      <td>-111.891190</td>\n",
       "      <td>40.749720</td>\n",
       "    </tr>\n",
       "  </tbody>\n",
       "</table>\n",
       "</div>"
      ],
      "text/plain": [
       "   Unnamed: 0    ﻿case  ncic code     description  ibr  \\\n",
       "0           0  SL201624   2499-13  STOLEN VEHICLE  240   \n",
       "1           1  SL201637    5404-0     DUI ALCOHOL  90D   \n",
       "2           2  SL201656    5404-0     DUI ALCOHOL  90D   \n",
       "3           3  SL201648   5499-44  ALCOHOL IN VEH  90D   \n",
       "4           4  SL201660    5404-0     DUI ALCOHOL  90D   \n",
       "\n",
       "                 occurred                reported  day of week  \\\n",
       "0  01/01/2016 12:36:15 AM  01/01/2016 12:36:15 AM            6   \n",
       "1  01/01/2016 01:00:24 AM  01/01/2016 01:00:24 AM            6   \n",
       "2  01/01/2016 01:23:44 AM  01/01/2016 01:23:44 AM            6   \n",
       "3  01/01/2016 01:10:27 AM  01/01/2016 01:10:27 AM            6   \n",
       "4  01/01/2016 01:33:42 AM  01/01/2016 01:33:42 AM            6   \n",
       "\n",
       "  location                                                                                         \\\n",
       "0  1400 S EMERY ST                               ...                                                \n",
       "1  200 W 500 S                                   ...                                                \n",
       "2  400 S WEST TEMPLE ST                          ...                                                \n",
       "3                                                NaN                                                \n",
       "4  900 S MAIN ST                                 ...                                                \n",
       "\n",
       "             city city council police zone police grid  y_coordinate  \\\n",
       "0  SALT LAKE CITY            2          Z2         123      876155.0   \n",
       "1  SALT LAKE CITY            4          Z3         134      883639.0   \n",
       "2  SALT LAKE CITY            4          Z3         135      883995.0   \n",
       "3  SALT LAKE CITY           SL          40          40      890270.0   \n",
       "4  SALT LAKE CITY            5          Z5         152      880413.0   \n",
       "\n",
       "   x_coordinate  x_gps_coords  y_gps_coords  \n",
       "0     1882550.0   -111.924569     40.737917  \n",
       "1     1890252.0   -111.896897     40.758555  \n",
       "2     1891039.0   -111.894062     40.759542  \n",
       "3     1869739.0   -111.971064     40.776482  \n",
       "4     1891819.0   -111.891190     40.749720  "
      ]
     },
     "execution_count": 2,
     "metadata": {},
     "output_type": "execute_result"
    }
   ],
   "source": [
    "#get a data-set of crimes in salt lake city(downloaded on kaggle)\n",
    "df1 = pd.read_csv(r'C:\\Users\\felix\\Desktop\\coursera\\salt lake city,crime\\slc-crime\\SLC_Police_Cases_2016_cleaned_geocoded.csv')\n",
    "df1.head()"
   ]
  },
  {
   "cell_type": "code",
   "execution_count": 3,
   "metadata": {},
   "outputs": [
    {
     "data": {
      "text/html": [
       "<div>\n",
       "<style scoped>\n",
       "    .dataframe tbody tr th:only-of-type {\n",
       "        vertical-align: middle;\n",
       "    }\n",
       "\n",
       "    .dataframe tbody tr th {\n",
       "        vertical-align: top;\n",
       "    }\n",
       "\n",
       "    .dataframe thead th {\n",
       "        text-align: right;\n",
       "    }\n",
       "</style>\n",
       "<table border=\"1\" class=\"dataframe\">\n",
       "  <thead>\n",
       "    <tr style=\"text-align: right;\">\n",
       "      <th></th>\n",
       "      <th>Unnamed: 0</th>\n",
       "      <th>day of week</th>\n",
       "      <th>y_coordinate</th>\n",
       "      <th>x_coordinate</th>\n",
       "      <th>x_gps_coords</th>\n",
       "      <th>y_gps_coords</th>\n",
       "    </tr>\n",
       "  </thead>\n",
       "  <tbody>\n",
       "    <tr>\n",
       "      <th>count</th>\n",
       "      <td>61240.00000</td>\n",
       "      <td>61240.000000</td>\n",
       "      <td>5.557900e+04</td>\n",
       "      <td>6.051400e+04</td>\n",
       "      <td>55579.000000</td>\n",
       "      <td>55579.000000</td>\n",
       "    </tr>\n",
       "    <tr>\n",
       "      <th>mean</th>\n",
       "      <td>30619.50000</td>\n",
       "      <td>4.083132</td>\n",
       "      <td>9.616907e+05</td>\n",
       "      <td>1.884926e+06</td>\n",
       "      <td>-111.755781</td>\n",
       "      <td>40.672947</td>\n",
       "    </tr>\n",
       "    <tr>\n",
       "      <th>std</th>\n",
       "      <td>17678.60958</td>\n",
       "      <td>1.944392</td>\n",
       "      <td>2.956102e+06</td>\n",
       "      <td>2.925709e+06</td>\n",
       "      <td>5.372417</td>\n",
       "      <td>3.058414</td>\n",
       "    </tr>\n",
       "    <tr>\n",
       "      <th>min</th>\n",
       "      <td>0.00000</td>\n",
       "      <td>1.000000</td>\n",
       "      <td>0.000000e+00</td>\n",
       "      <td>0.000000e+00</td>\n",
       "      <td>-118.457241</td>\n",
       "      <td>-73.285003</td>\n",
       "    </tr>\n",
       "    <tr>\n",
       "      <th>25%</th>\n",
       "      <td>15309.75000</td>\n",
       "      <td>2.000000</td>\n",
       "      <td>8.768370e+05</td>\n",
       "      <td>1.882351e+06</td>\n",
       "      <td>-111.915513</td>\n",
       "      <td>40.739895</td>\n",
       "    </tr>\n",
       "    <tr>\n",
       "      <th>50%</th>\n",
       "      <td>30619.50000</td>\n",
       "      <td>4.000000</td>\n",
       "      <td>8.843420e+05</td>\n",
       "      <td>1.889051e+06</td>\n",
       "      <td>-111.899550</td>\n",
       "      <td>40.760534</td>\n",
       "    </tr>\n",
       "    <tr>\n",
       "      <th>75%</th>\n",
       "      <td>45929.25000</td>\n",
       "      <td>6.000000</td>\n",
       "      <td>8.870980e+05</td>\n",
       "      <td>1.894281e+06</td>\n",
       "      <td>-111.879530</td>\n",
       "      <td>40.767992</td>\n",
       "    </tr>\n",
       "    <tr>\n",
       "      <th>max</th>\n",
       "      <td>61239.00000</td>\n",
       "      <td>7.000000</td>\n",
       "      <td>1.111111e+08</td>\n",
       "      <td>1.111111e+08</td>\n",
       "      <td>88.421094</td>\n",
       "      <td>40.840264</td>\n",
       "    </tr>\n",
       "  </tbody>\n",
       "</table>\n",
       "</div>"
      ],
      "text/plain": [
       "        Unnamed: 0   day of week  y_coordinate  x_coordinate  x_gps_coords  \\\n",
       "count  61240.00000  61240.000000  5.557900e+04  6.051400e+04  55579.000000   \n",
       "mean   30619.50000      4.083132  9.616907e+05  1.884926e+06   -111.755781   \n",
       "std    17678.60958      1.944392  2.956102e+06  2.925709e+06      5.372417   \n",
       "min        0.00000      1.000000  0.000000e+00  0.000000e+00   -118.457241   \n",
       "25%    15309.75000      2.000000  8.768370e+05  1.882351e+06   -111.915513   \n",
       "50%    30619.50000      4.000000  8.843420e+05  1.889051e+06   -111.899550   \n",
       "75%    45929.25000      6.000000  8.870980e+05  1.894281e+06   -111.879530   \n",
       "max    61239.00000      7.000000  1.111111e+08  1.111111e+08     88.421094   \n",
       "\n",
       "       y_gps_coords  \n",
       "count  55579.000000  \n",
       "mean      40.672947  \n",
       "std        3.058414  \n",
       "min      -73.285003  \n",
       "25%       40.739895  \n",
       "50%       40.760534  \n",
       "75%       40.767992  \n",
       "max       40.840264  "
      ]
     },
     "execution_count": 3,
     "metadata": {},
     "output_type": "execute_result"
    }
   ],
   "source": [
    "df1.describe()"
   ]
  },
  {
   "cell_type": "code",
   "execution_count": 4,
   "metadata": {},
   "outputs": [
    {
     "data": {
      "text/plain": [
       "(61240, 17)"
      ]
     },
     "execution_count": 4,
     "metadata": {},
     "output_type": "execute_result"
    }
   ],
   "source": [
    "df1.shape"
   ]
  },
  {
   "cell_type": "code",
   "execution_count": 5,
   "metadata": {},
   "outputs": [
    {
     "data": {
      "text/html": [
       "<div>\n",
       "<style scoped>\n",
       "    .dataframe tbody tr th:only-of-type {\n",
       "        vertical-align: middle;\n",
       "    }\n",
       "\n",
       "    .dataframe tbody tr th {\n",
       "        vertical-align: top;\n",
       "    }\n",
       "\n",
       "    .dataframe thead th {\n",
       "        text-align: right;\n",
       "    }\n",
       "</style>\n",
       "<table border=\"1\" class=\"dataframe\">\n",
       "  <thead>\n",
       "    <tr style=\"text-align: right;\">\n",
       "      <th></th>\n",
       "      <th>﻿case</th>\n",
       "      <th>description</th>\n",
       "      <th>ibr</th>\n",
       "      <th>day of week</th>\n",
       "      <th>location</th>\n",
       "      <th>city council</th>\n",
       "      <th>police zone</th>\n",
       "      <th>x_gps_coords</th>\n",
       "      <th>y_gps_coords</th>\n",
       "    </tr>\n",
       "  </thead>\n",
       "  <tbody>\n",
       "    <tr>\n",
       "      <th>61235</th>\n",
       "      <td>SL2016235945</td>\n",
       "      <td>DRUGS</td>\n",
       "      <td>35A</td>\n",
       "      <td>2</td>\n",
       "      <td>100 S RIO GRANDE ST                           ...</td>\n",
       "      <td>4</td>\n",
       "      <td>Z3</td>\n",
       "      <td>-111.903987</td>\n",
       "      <td>40.765513</td>\n",
       "    </tr>\n",
       "    <tr>\n",
       "      <th>61236</th>\n",
       "      <td>SL2016228081</td>\n",
       "      <td>LARCENY</td>\n",
       "      <td>23C</td>\n",
       "      <td>7</td>\n",
       "      <td>000 E 1700 S                                  ...</td>\n",
       "      <td>5</td>\n",
       "      <td>Z5</td>\n",
       "      <td>-111.890725</td>\n",
       "      <td>40.733588</td>\n",
       "    </tr>\n",
       "    <tr>\n",
       "      <th>61237</th>\n",
       "      <td>SL2016226107</td>\n",
       "      <td>PUBLIC PEACE</td>\n",
       "      <td>0</td>\n",
       "      <td>1</td>\n",
       "      <td>800 S 300 E                                   ...</td>\n",
       "      <td>4</td>\n",
       "      <td>Z3</td>\n",
       "      <td>-111.882599</td>\n",
       "      <td>40.750846</td>\n",
       "    </tr>\n",
       "    <tr>\n",
       "      <th>61238</th>\n",
       "      <td>SL2016234642</td>\n",
       "      <td>DUI ALCOHOL</td>\n",
       "      <td>90D</td>\n",
       "      <td>7</td>\n",
       "      <td>200 W 500 S                                   ...</td>\n",
       "      <td>4</td>\n",
       "      <td>Z3</td>\n",
       "      <td>-111.898268</td>\n",
       "      <td>40.758553</td>\n",
       "    </tr>\n",
       "    <tr>\n",
       "      <th>61239</th>\n",
       "      <td>SL2016238195</td>\n",
       "      <td>OBST POLICE</td>\n",
       "      <td>13B</td>\n",
       "      <td>5</td>\n",
       "      <td>100 W 600 S                                   ...</td>\n",
       "      <td>4</td>\n",
       "      <td>Z3</td>\n",
       "      <td>-111.896122</td>\n",
       "      <td>40.756381</td>\n",
       "    </tr>\n",
       "  </tbody>\n",
       "</table>\n",
       "</div>"
      ],
      "text/plain": [
       "             ﻿case    description  ibr  day of week  \\\n",
       "61235  SL2016235945         DRUGS  35A            2   \n",
       "61236  SL2016228081       LARCENY  23C            7   \n",
       "61237  SL2016226107  PUBLIC PEACE    0            1   \n",
       "61238  SL2016234642   DUI ALCOHOL  90D            7   \n",
       "61239  SL2016238195   OBST POLICE  13B            5   \n",
       "\n",
       "      location                                                                                         \\\n",
       "61235  100 S RIO GRANDE ST                           ...                                                \n",
       "61236  000 E 1700 S                                  ...                                                \n",
       "61237  800 S 300 E                                   ...                                                \n",
       "61238  200 W 500 S                                   ...                                                \n",
       "61239  100 W 600 S                                   ...                                                \n",
       "\n",
       "      city council police zone  x_gps_coords  y_gps_coords  \n",
       "61235            4          Z3   -111.903987     40.765513  \n",
       "61236            5          Z5   -111.890725     40.733588  \n",
       "61237            4          Z3   -111.882599     40.750846  \n",
       "61238            4          Z3   -111.898268     40.758553  \n",
       "61239            4          Z3   -111.896122     40.756381  "
      ]
     },
     "execution_count": 5,
     "metadata": {},
     "output_type": "execute_result"
    }
   ],
   "source": [
    "#clear the datasate_df1 and drop the unneccecary columns\n",
    "df_clear= df1.drop(columns=['y_coordinate','x_coordinate','Unnamed: 0','ncic code','occurred','reported','police grid','city'])\n",
    "df_clear.tail()\n"
   ]
  },
  {
   "cell_type": "code",
   "execution_count": 6,
   "metadata": {},
   "outputs": [
    {
     "data": {
      "text/plain": [
       "array([6, 3, 7, 1, 5, 4, 2], dtype=int64)"
      ]
     },
     "execution_count": 6,
     "metadata": {},
     "output_type": "execute_result"
    }
   ],
   "source": [
    "#lets have a look if there are any differnces due to the day (monday,tuesday,...) and the absolut crimes\n",
    "df_clear['day of week'].unique()"
   ]
  },
  {
   "cell_type": "code",
   "execution_count": 7,
   "metadata": {},
   "outputs": [
    {
     "data": {
      "text/plain": [
       "dict_keys([6, 3, 7, 1, 5, 4, 2])"
      ]
     },
     "execution_count": 7,
     "metadata": {},
     "output_type": "execute_result"
    }
   ],
   "source": [
    "from collections import Counter\n",
    "\n",
    "day =Counter(df_clear['day of week']).keys() # equals to list(set(words))\n",
    "day"
   ]
  },
  {
   "cell_type": "code",
   "execution_count": 8,
   "metadata": {},
   "outputs": [
    {
     "data": {
      "text/plain": [
       "dict_values([9516, 8950, 8396, 7238, 9099, 9259, 8782])"
      ]
     },
     "execution_count": 8,
     "metadata": {},
     "output_type": "execute_result"
    }
   ],
   "source": [
    "crime_day=Counter(df_clear['day of week']).values()\n",
    "crime_day"
   ]
  },
  {
   "cell_type": "code",
   "execution_count": 9,
   "metadata": {},
   "outputs": [
    {
     "data": {
      "text/html": [
       "<div>\n",
       "<style scoped>\n",
       "    .dataframe tbody tr th:only-of-type {\n",
       "        vertical-align: middle;\n",
       "    }\n",
       "\n",
       "    .dataframe tbody tr th {\n",
       "        vertical-align: top;\n",
       "    }\n",
       "\n",
       "    .dataframe thead th {\n",
       "        text-align: right;\n",
       "    }\n",
       "</style>\n",
       "<table border=\"1\" class=\"dataframe\">\n",
       "  <thead>\n",
       "    <tr style=\"text-align: right;\">\n",
       "      <th></th>\n",
       "      <th>Wochentag</th>\n",
       "      <th>crime_day</th>\n",
       "    </tr>\n",
       "  </thead>\n",
       "  <tbody>\n",
       "    <tr>\n",
       "      <th>0</th>\n",
       "      <td>6</td>\n",
       "      <td>9516</td>\n",
       "    </tr>\n",
       "    <tr>\n",
       "      <th>1</th>\n",
       "      <td>3</td>\n",
       "      <td>8950</td>\n",
       "    </tr>\n",
       "    <tr>\n",
       "      <th>2</th>\n",
       "      <td>7</td>\n",
       "      <td>8396</td>\n",
       "    </tr>\n",
       "    <tr>\n",
       "      <th>3</th>\n",
       "      <td>1</td>\n",
       "      <td>7238</td>\n",
       "    </tr>\n",
       "    <tr>\n",
       "      <th>4</th>\n",
       "      <td>5</td>\n",
       "      <td>9099</td>\n",
       "    </tr>\n",
       "    <tr>\n",
       "      <th>5</th>\n",
       "      <td>4</td>\n",
       "      <td>9259</td>\n",
       "    </tr>\n",
       "    <tr>\n",
       "      <th>6</th>\n",
       "      <td>2</td>\n",
       "      <td>8782</td>\n",
       "    </tr>\n",
       "  </tbody>\n",
       "</table>\n",
       "</div>"
      ],
      "text/plain": [
       "   Wochentag  crime_day\n",
       "0          6       9516\n",
       "1          3       8950\n",
       "2          7       8396\n",
       "3          1       7238\n",
       "4          5       9099\n",
       "5          4       9259\n",
       "6          2       8782"
      ]
     },
     "execution_count": 9,
     "metadata": {},
     "output_type": "execute_result"
    }
   ],
   "source": [
    "\n",
    "Tage = pd.DataFrame({'Wochentag' :[6, 3, 7, 1, 5, 4, 2], 'crime_day' :[9516, 8950, 8396, 7238, 9099, 9259, 8782]})\n",
    "Tage\n"
   ]
  },
  {
   "cell_type": "code",
   "execution_count": 10,
   "metadata": {},
   "outputs": [
    {
     "data": {
      "text/html": [
       "<div>\n",
       "<style scoped>\n",
       "    .dataframe tbody tr th:only-of-type {\n",
       "        vertical-align: middle;\n",
       "    }\n",
       "\n",
       "    .dataframe tbody tr th {\n",
       "        vertical-align: top;\n",
       "    }\n",
       "\n",
       "    .dataframe thead th {\n",
       "        text-align: right;\n",
       "    }\n",
       "</style>\n",
       "<table border=\"1\" class=\"dataframe\">\n",
       "  <thead>\n",
       "    <tr style=\"text-align: right;\">\n",
       "      <th></th>\n",
       "      <th>Wochentag</th>\n",
       "      <th>crime_day</th>\n",
       "    </tr>\n",
       "  </thead>\n",
       "  <tbody>\n",
       "    <tr>\n",
       "      <th>3</th>\n",
       "      <td>1</td>\n",
       "      <td>7238</td>\n",
       "    </tr>\n",
       "    <tr>\n",
       "      <th>6</th>\n",
       "      <td>2</td>\n",
       "      <td>8782</td>\n",
       "    </tr>\n",
       "    <tr>\n",
       "      <th>1</th>\n",
       "      <td>3</td>\n",
       "      <td>8950</td>\n",
       "    </tr>\n",
       "    <tr>\n",
       "      <th>5</th>\n",
       "      <td>4</td>\n",
       "      <td>9259</td>\n",
       "    </tr>\n",
       "    <tr>\n",
       "      <th>4</th>\n",
       "      <td>5</td>\n",
       "      <td>9099</td>\n",
       "    </tr>\n",
       "    <tr>\n",
       "      <th>0</th>\n",
       "      <td>6</td>\n",
       "      <td>9516</td>\n",
       "    </tr>\n",
       "    <tr>\n",
       "      <th>2</th>\n",
       "      <td>7</td>\n",
       "      <td>8396</td>\n",
       "    </tr>\n",
       "  </tbody>\n",
       "</table>\n",
       "</div>"
      ],
      "text/plain": [
       "   Wochentag  crime_day\n",
       "3          1       7238\n",
       "6          2       8782\n",
       "1          3       8950\n",
       "5          4       9259\n",
       "4          5       9099\n",
       "0          6       9516\n",
       "2          7       8396"
      ]
     },
     "execution_count": 10,
     "metadata": {},
     "output_type": "execute_result"
    }
   ],
   "source": [
    "Tagenew = Tage.sort_values([\"Wochentag\"], ascending = True)\n",
    "\n",
    "Tagenew"
   ]
  },
  {
   "cell_type": "code",
   "execution_count": 16,
   "metadata": {},
   "outputs": [
    {
     "data": {
      "image/png": "[encoded data removed]",
      "text/plain": [
       "<Figure size 864x504 with 1 Axes>"
      ]
     },
     "metadata": {
      "needs_background": "light"
     },
     "output_type": "display_data"
    }
   ],
   "source": [
    "plt.figure(figsize=(12,7))\n",
    "\n",
    "plt.bar(Tagenew.Wochentag, Tagenew.crime_day,width=0.4)\n",
    " \n",
    "plt.title('crimes of salt Lake City')\n",
    "plt.ylabel('crimes overall')\n",
    "plt.xlabel('day of week  1 = Monday, 2= Tuesday...')\n",
    "\n",
    "plt.show()\n",
    "#the distribution of crimes in Salt Lake City per day of week(1= Monday, 2= Tuesday, etc....).There are not any statistical differences, cirmes on Monday and Sunday are a bit lower"
   ]
  },
  {
   "cell_type": "code",
   "execution_count": 17,
   "metadata": {},
   "outputs": [],
   "source": [
    "import statsmodels.api as sm\n",
    "from statsmodels.formula.api import ols"
   ]
  },
  {
   "cell_type": "code",
   "execution_count": 18,
   "metadata": {},
   "outputs": [
    {
     "name": "stdout",
     "output_type": "stream",
     "text": [
      "            df     sum_sq   mean_sq         F    PR(>F)\n",
      "crime_day  1.0   7.578206  7.578206  1.855421  0.231307\n",
      "Residual   5.0  20.421794  4.084359       NaN       NaN\n"
     ]
    }
   ],
   "source": [
    "lm = ols('Wochentag ~ crime_day',data=Tagenew).fit()\n",
    "table = sm.stats.anova_lm(lm)\n",
    "print(table)"
   ]
  },
  {
   "cell_type": "code",
   "execution_count": 19,
   "metadata": {},
   "outputs": [
    {
     "data": {
      "text/plain": [
       "dict_keys(['STOLEN VEHICLE', 'DUI ALCOHOL', 'ALCOHOL IN VEH', 'HIT AND RUN', 'PUBLIC PEACE', 'PUBLIC ORDER', 'ASSAULT', 'LARCENY', 'DAMAGED PROP', 'DRUGS', 'IMP/ABAND VEH', 'ROBBERY', 'INV OF PRIVACY', 'NON MOV TRAF', 'TA- CITY EQUIP', 'ESCAPE', 'STOLEN PROP', 'CONSERVATION', 'WEAPON OFFENSE', 'REPORTABLE TA', 'FRAUD', 'NONREPTABL TA', 'BURGLARY', 'FORGERY', 'OBST POLICE', 'DUI DRUGS', 'LIQUOR', 'ARPRT TITLE 16', 'MORALS-DECENCY', 'KIDNAP', 'FLEEING', 'DUI - CLS A', 'PORNOGRAPHY', 'COMMERCIAL SEX', 'TA-COUNTY EQUI', 'MOV TRAF VIOL', 'DUI - FEL3', 'TRAFFIC', 'INSP COMM VEH', 'OBST JUDICIAL', 'WEAPONS', 'GAMBLING', 'THREATS', 'ARSON', 'EMBEZZLEMENT', nan, 'EXTORTION', 'HEALTH/SAFETY', 'OFCR INV TA', 'PUB PEACE-HOST', 'COUNTERFEITING', 'TA W/COMM VEH', 'AIRPLANE CRASH', 'HOMICIDE', 'PROPERTY CRIME', 'ABORTION', 'TA-INJ/DRUGS', 'TA-INJ/ALCOHOL', 'TA INV TRAIN', 'ARPLN CRASH MI', 'EXPLOITATION', 'MORALS-ANML CR', 'OBST JUD'])"
      ]
     },
     "execution_count": 19,
     "metadata": {},
     "output_type": "execute_result"
    }
   ],
   "source": [
    "#the sam procedure for the type of crimes\n",
    "df_clear['description'].unique()\n",
    "from collections import Counter\n",
    "\n",
    "typecrime =Counter(df_clear['description']).keys()\n",
    "\n",
    "#typecrime=Counter(df_clear['description']).values()\n",
    "typecrime\n"
   ]
  },
  {
   "cell_type": "code",
   "execution_count": 20,
   "metadata": {},
   "outputs": [
    {
     "data": {
      "image/png": "[encoded data removed]",
      "text/plain": [
       "<Figure size 864x504 with 1 Axes>"
      ]
     },
     "metadata": {
      "needs_background": "light"
     },
     "output_type": "display_data"
    }
   ],
   "source": [
    "\n",
    "Crime_x = pd.DataFrame({'type' :['STOLEN VEHICLE', 'DUI ALCOHOL', 'ALCOHOL IN VEH', 'HIT AND RUN', 'PUBLIC PEACE', 'PUBLIC ORDER', 'ASSAULT', 'LARCENY', 'DAMAGED PROP', 'DRUGS', 'IMP/ABAND VEH', 'ROBBERY', 'INV OF PRIVACY', 'NON MOV TRAF', 'TA- CITY EQUIP', 'ESCAPE', 'STOLEN PROP', 'CONSERVATION', 'WEAPON OFFENSE', 'REPORTABLE TA', 'FRAUD', 'NONREPTABL TA', 'BURGLARY', 'FORGERY', 'OBST POLICE', 'DUI DRUGS', 'LIQUOR', 'ARPRT TITLE 16', 'MORALS-DECENCY', 'KIDNAP', 'FLEEING', 'DUI - CLS A', 'PORNOGRAPHY', 'COMMERCIAL SEX', 'TA-COUNTY EQUI', 'MOV TRAF VIOL', 'DUI - FEL3', 'TRAFFIC', 'INSP COMM VEH', 'OBST JUDICIAL', 'WEAPONS', 'GAMBLING', 'THREATS', 'ARSON', 'EMBEZZLEMENT', 'nan', 'EXTORTION', 'HEALTH/SAFETY', 'OFCR INV TA', 'PUB PEACE-HOST', 'COUNTERFEITING', 'TA W/COMM VEH', 'AIRPLANE CRASH', 'HOMICIDE', 'PROPERTY CRIME', 'ABORTION', 'TA-INJ/DRUGS', 'TA-INJ/ALCOHOL', 'TA INV TRAIN', 'ARPLN CRASH MI', 'EXPLOITATION', 'MORALS-ANML CR', 'OBST JUD'], 'value' :[2600, 401, 21, 1108, 4146, 8997, 4383, 12478, 2730, 5282, 276, 524, 2206, 191, 135, 4029, 135, 55, 350, 2436, 1456, 2682, 1658, 489, 599, 74, 374, 129, 160, 98, 75, 17, 21, 172, 14, 178, 12, 96, 167, 16, 11, 5, 7, 49, 7, 11, 8, 32, 40, 6, 45, 20, 3, 6, 4, 1, 2, 2, 2, 2, 4, 2, 1]})\n",
    "plt.figure(figsize=(12,7))\n",
    "\n",
    "plt.bar(Crime_x.type, Crime_x.value)\n",
    " \n",
    "plt.title('type of crimes in salt Lake City')\n",
    "plt.ylabel('number')\n",
    "plt.xlabel('type of crime')\n",
    "\n",
    "plt.show()\n"
   ]
  },
  {
   "cell_type": "code",
   "execution_count": 21,
   "metadata": {},
   "outputs": [
    {
     "data": {
      "text/html": [
       "<div>\n",
       "<style scoped>\n",
       "    .dataframe tbody tr th:only-of-type {\n",
       "        vertical-align: middle;\n",
       "    }\n",
       "\n",
       "    .dataframe tbody tr th {\n",
       "        vertical-align: top;\n",
       "    }\n",
       "\n",
       "    .dataframe thead th {\n",
       "        text-align: right;\n",
       "    }\n",
       "</style>\n",
       "<table border=\"1\" class=\"dataframe\">\n",
       "  <thead>\n",
       "    <tr style=\"text-align: right;\">\n",
       "      <th></th>\n",
       "      <th>type</th>\n",
       "      <th>value</th>\n",
       "    </tr>\n",
       "  </thead>\n",
       "  <tbody>\n",
       "    <tr>\n",
       "      <th>7</th>\n",
       "      <td>LARCENY</td>\n",
       "      <td>12478</td>\n",
       "    </tr>\n",
       "    <tr>\n",
       "      <th>5</th>\n",
       "      <td>PUBLIC ORDER</td>\n",
       "      <td>8997</td>\n",
       "    </tr>\n",
       "    <tr>\n",
       "      <th>9</th>\n",
       "      <td>DRUGS</td>\n",
       "      <td>5282</td>\n",
       "    </tr>\n",
       "    <tr>\n",
       "      <th>6</th>\n",
       "      <td>ASSAULT</td>\n",
       "      <td>4383</td>\n",
       "    </tr>\n",
       "    <tr>\n",
       "      <th>4</th>\n",
       "      <td>PUBLIC PEACE</td>\n",
       "      <td>4146</td>\n",
       "    </tr>\n",
       "  </tbody>\n",
       "</table>\n",
       "</div>"
      ],
      "text/plain": [
       "           type  value\n",
       "7       LARCENY  12478\n",
       "5  PUBLIC ORDER   8997\n",
       "9         DRUGS   5282\n",
       "6       ASSAULT   4383\n",
       "4  PUBLIC PEACE   4146"
      ]
     },
     "execution_count": 21,
     "metadata": {},
     "output_type": "execute_result"
    }
   ],
   "source": [
    "Crime_xsort= Crime_x.sort_values(['value'], ascending = False)\n",
    "Crime_xsort.head()"
   ]
  },
  {
   "cell_type": "code",
   "execution_count": 22,
   "metadata": {},
   "outputs": [
    {
     "data": {
      "text/plain": [
       "array([-111.92456865, -111.89689662, -111.89406162, ..., -111.89965435,\n",
       "       -111.95525097, -111.88259909])"
      ]
     },
     "execution_count": 22,
     "metadata": {},
     "output_type": "execute_result"
    }
   ],
   "source": [
    "#i just wanted to see if there are a lot of overlapping gps data(but there are not)the following steps are not neccecary. i wanted to get a bit more familiar with the dataset\n",
    "df_clear['x_gps_coords'].unique()"
   ]
  },
  {
   "cell_type": "code",
   "execution_count": null,
   "metadata": {},
   "outputs": [],
   "source": []
  },
  {
   "cell_type": "code",
   "execution_count": null,
   "metadata": {},
   "outputs": [],
   "source": []
  },
  {
   "cell_type": "code",
   "execution_count": 24,
   "metadata": {},
   "outputs": [],
   "source": [
    "df_grouped=df_clear.groupby('x_gps_coords')\n",
    "#df_grouped.first()\n",
    "  \n"
   ]
  },
  {
   "cell_type": "code",
   "execution_count": 25,
   "metadata": {},
   "outputs": [
    {
     "data": {
      "text/plain": [
       "55579"
      ]
     },
     "execution_count": 25,
     "metadata": {},
     "output_type": "execute_result"
    }
   ],
   "source": [
    "df_clear['x_gps_coords'].count()"
   ]
  },
  {
   "cell_type": "code",
   "execution_count": 26,
   "metadata": {},
   "outputs": [
    {
     "data": {
      "text/plain": [
       "array(['2', '4', 'SL', '5', '3', '1', '7', nan, '6', 'INV', 'Z6', 'Z1',\n",
       "       '0', 'A', 'Z4', 'Z5', 'Z3', 'Z2', '49', '40', '02', '43', 'WVC',\n",
       "       '48', 'D3', '33', '07', 'ADM', '11', '42', '13', '143', 'UI', '53',\n",
       "       'L'], dtype=object)"
      ]
     },
     "execution_count": 26,
     "metadata": {},
     "output_type": "execute_result"
    }
   ],
   "source": [
    "df_clear['city council'].unique()"
   ]
  },
  {
   "cell_type": "code",
   "execution_count": 28,
   "metadata": {},
   "outputs": [],
   "source": [
    "X = []"
   ]
  },
  {
   "cell_type": "code",
   "execution_count": 29,
   "metadata": {},
   "outputs": [],
   "source": [
    "X= df_clear['x_gps_coords']"
   ]
  },
  {
   "cell_type": "code",
   "execution_count": 30,
   "metadata": {},
   "outputs": [],
   "source": [
    "Y= df_clear['y_gps_coords']"
   ]
  },
  {
   "cell_type": "code",
   "execution_count": 31,
   "metadata": {},
   "outputs": [],
   "source": [
    "#Y"
   ]
  },
  {
   "cell_type": "code",
   "execution_count": 32,
   "metadata": {},
   "outputs": [
    {
     "data": {
      "text/html": [
       "<div>\n",
       "<style scoped>\n",
       "    .dataframe tbody tr th:only-of-type {\n",
       "        vertical-align: middle;\n",
       "    }\n",
       "\n",
       "    .dataframe tbody tr th {\n",
       "        vertical-align: top;\n",
       "    }\n",
       "\n",
       "    .dataframe thead th {\n",
       "        text-align: right;\n",
       "    }\n",
       "</style>\n",
       "<table border=\"1\" class=\"dataframe\">\n",
       "  <thead>\n",
       "    <tr style=\"text-align: right;\">\n",
       "      <th></th>\n",
       "      <th>description</th>\n",
       "      <th>latitude</th>\n",
       "      <th>longitude</th>\n",
       "    </tr>\n",
       "  </thead>\n",
       "  <tbody>\n",
       "    <tr>\n",
       "      <th>0</th>\n",
       "      <td>STOLEN VEHICLE</td>\n",
       "      <td>-111.924569</td>\n",
       "      <td>40.737917</td>\n",
       "    </tr>\n",
       "    <tr>\n",
       "      <th>1</th>\n",
       "      <td>DUI ALCOHOL</td>\n",
       "      <td>-111.896897</td>\n",
       "      <td>40.758555</td>\n",
       "    </tr>\n",
       "    <tr>\n",
       "      <th>2</th>\n",
       "      <td>DUI ALCOHOL</td>\n",
       "      <td>-111.894062</td>\n",
       "      <td>40.759542</td>\n",
       "    </tr>\n",
       "    <tr>\n",
       "      <th>3</th>\n",
       "      <td>ALCOHOL IN VEH</td>\n",
       "      <td>-111.971064</td>\n",
       "      <td>40.776482</td>\n",
       "    </tr>\n",
       "    <tr>\n",
       "      <th>4</th>\n",
       "      <td>DUI ALCOHOL</td>\n",
       "      <td>-111.891190</td>\n",
       "      <td>40.749720</td>\n",
       "    </tr>\n",
       "    <tr>\n",
       "      <th>5</th>\n",
       "      <td>HIT AND RUN</td>\n",
       "      <td>-111.880435</td>\n",
       "      <td>40.760737</td>\n",
       "    </tr>\n",
       "    <tr>\n",
       "      <th>6</th>\n",
       "      <td>DUI ALCOHOL</td>\n",
       "      <td>-111.885360</td>\n",
       "      <td>40.747617</td>\n",
       "    </tr>\n",
       "    <tr>\n",
       "      <th>7</th>\n",
       "      <td>PUBLIC PEACE</td>\n",
       "      <td>-111.848726</td>\n",
       "      <td>40.779466</td>\n",
       "    </tr>\n",
       "    <tr>\n",
       "      <th>8</th>\n",
       "      <td>PUBLIC ORDER</td>\n",
       "      <td>-111.923397</td>\n",
       "      <td>40.746762</td>\n",
       "    </tr>\n",
       "    <tr>\n",
       "      <th>9</th>\n",
       "      <td>ASSAULT</td>\n",
       "      <td>-111.877815</td>\n",
       "      <td>40.755069</td>\n",
       "    </tr>\n",
       "  </tbody>\n",
       "</table>\n",
       "</div>"
      ],
      "text/plain": [
       "      description    latitude  longitude\n",
       "0  STOLEN VEHICLE -111.924569  40.737917\n",
       "1     DUI ALCOHOL -111.896897  40.758555\n",
       "2     DUI ALCOHOL -111.894062  40.759542\n",
       "3  ALCOHOL IN VEH -111.971064  40.776482\n",
       "4     DUI ALCOHOL -111.891190  40.749720\n",
       "5     HIT AND RUN -111.880435  40.760737\n",
       "6     DUI ALCOHOL -111.885360  40.747617\n",
       "7    PUBLIC PEACE -111.848726  40.779466\n",
       "8    PUBLIC ORDER -111.923397  40.746762\n",
       "9         ASSAULT -111.877815  40.755069"
      ]
     },
     "execution_count": 32,
     "metadata": {},
     "output_type": "execute_result"
    }
   ],
   "source": [
    "# clear the rows, where no Lat or lon is given\n",
    "T=df_clear.loc[:,['description','x_gps_coords','y_gps_coords']]\n",
    "T.rename(columns={\"x_gps_coords\": \"latitude\", \"y_gps_coords\": \"longitude\"},inplace= True)\n",
    "T.head(10)"
   ]
  },
  {
   "cell_type": "code",
   "execution_count": 34,
   "metadata": {},
   "outputs": [],
   "source": [
    "Y_axis = T[['latitude']]\n",
    "X_axis = T[['longitude']]\n",
    "result = Y_axis.isnull() \n",
    "#print(result)\n",
    "T.dropna(subset=[\"latitude\"], axis=0, inplace=True)\n",
    "T.dropna(subset=[\"longitude\"], axis=0, inplace=True)\n",
    "# reset index, because we droped two rows\n",
    "T.reset_index(drop=True, inplace=True)\n",
    "#T"
   ]
  },
  {
   "cell_type": "code",
   "execution_count": 35,
   "metadata": {},
   "outputs": [
    {
     "data": {
      "image/png": "[encoded data removed]",
      "text/plain": [
       "<Figure size 432x288 with 1 Axes>"
      ]
     },
     "metadata": {
      "needs_background": "light"
     },
     "output_type": "display_data"
    }
   ],
   "source": [
    "#how many cluster are usefull, in this case two, but i decided to cluster the crimes in 5 cluster \n",
    "Y_axis = T[['latitude']]\n",
    "X_axis = T[['longitude']]\n",
    "\n",
    "K_clusters = range(1,10)\n",
    "kmeans = [KMeans(n_clusters=i) for i in K_clusters]\n",
    "Y_axis = T[['latitude']]\n",
    "X_axis = T[['longitude']]\n",
    "score = [kmeans[i].fit(Y_axis).score(Y_axis) for i in range(len(kmeans))]\n",
    "# Visualize\n",
    "plt.plot(K_clusters, score)\n",
    "plt.xlabel('Number of Clusters')\n",
    "plt.ylabel('Score')\n",
    "plt.title('Elbow Curve')\n",
    "plt.show()"
   ]
  },
  {
   "cell_type": "code",
   "execution_count": 36,
   "metadata": {},
   "outputs": [
    {
     "data": {
      "text/html": [
       "<div>\n",
       "<style scoped>\n",
       "    .dataframe tbody tr th:only-of-type {\n",
       "        vertical-align: middle;\n",
       "    }\n",
       "\n",
       "    .dataframe tbody tr th {\n",
       "        vertical-align: top;\n",
       "    }\n",
       "\n",
       "    .dataframe thead th {\n",
       "        text-align: right;\n",
       "    }\n",
       "</style>\n",
       "<table border=\"1\" class=\"dataframe\">\n",
       "  <thead>\n",
       "    <tr style=\"text-align: right;\">\n",
       "      <th></th>\n",
       "      <th>latitude</th>\n",
       "      <th>longitude</th>\n",
       "    </tr>\n",
       "  </thead>\n",
       "  <tbody>\n",
       "    <tr>\n",
       "      <th>count</th>\n",
       "      <td>55579.000000</td>\n",
       "      <td>55579.000000</td>\n",
       "    </tr>\n",
       "    <tr>\n",
       "      <th>mean</th>\n",
       "      <td>-111.755781</td>\n",
       "      <td>40.672947</td>\n",
       "    </tr>\n",
       "    <tr>\n",
       "      <th>std</th>\n",
       "      <td>5.372417</td>\n",
       "      <td>3.058414</td>\n",
       "    </tr>\n",
       "    <tr>\n",
       "      <th>min</th>\n",
       "      <td>-118.457241</td>\n",
       "      <td>-73.285003</td>\n",
       "    </tr>\n",
       "    <tr>\n",
       "      <th>25%</th>\n",
       "      <td>-111.915513</td>\n",
       "      <td>40.739895</td>\n",
       "    </tr>\n",
       "    <tr>\n",
       "      <th>50%</th>\n",
       "      <td>-111.899550</td>\n",
       "      <td>40.760534</td>\n",
       "    </tr>\n",
       "    <tr>\n",
       "      <th>75%</th>\n",
       "      <td>-111.879530</td>\n",
       "      <td>40.767992</td>\n",
       "    </tr>\n",
       "    <tr>\n",
       "      <th>max</th>\n",
       "      <td>88.421094</td>\n",
       "      <td>40.840264</td>\n",
       "    </tr>\n",
       "  </tbody>\n",
       "</table>\n",
       "</div>"
      ],
      "text/plain": [
       "           latitude     longitude\n",
       "count  55579.000000  55579.000000\n",
       "mean    -111.755781     40.672947\n",
       "std        5.372417      3.058414\n",
       "min     -118.457241    -73.285003\n",
       "25%     -111.915513     40.739895\n",
       "50%     -111.899550     40.760534\n",
       "75%     -111.879530     40.767992\n",
       "max       88.421094     40.840264"
      ]
     },
     "execution_count": 36,
     "metadata": {},
     "output_type": "execute_result"
    }
   ],
   "source": [
    "T.describe()"
   ]
  },
  {
   "cell_type": "code",
   "execution_count": 37,
   "metadata": {},
   "outputs": [
    {
     "data": {
      "text/html": [
       "<div>\n",
       "<style scoped>\n",
       "    .dataframe tbody tr th:only-of-type {\n",
       "        vertical-align: middle;\n",
       "    }\n",
       "\n",
       "    .dataframe tbody tr th {\n",
       "        vertical-align: top;\n",
       "    }\n",
       "\n",
       "    .dataframe thead th {\n",
       "        text-align: right;\n",
       "    }\n",
       "</style>\n",
       "<table border=\"1\" class=\"dataframe\">\n",
       "  <thead>\n",
       "    <tr style=\"text-align: right;\">\n",
       "      <th></th>\n",
       "      <th>description</th>\n",
       "      <th>latitude</th>\n",
       "      <th>longitude</th>\n",
       "    </tr>\n",
       "  </thead>\n",
       "  <tbody>\n",
       "    <tr>\n",
       "      <th>0</th>\n",
       "      <td>STOLEN VEHICLE</td>\n",
       "      <td>-111.924569</td>\n",
       "      <td>40.737917</td>\n",
       "    </tr>\n",
       "    <tr>\n",
       "      <th>1</th>\n",
       "      <td>DUI ALCOHOL</td>\n",
       "      <td>-111.896897</td>\n",
       "      <td>40.758555</td>\n",
       "    </tr>\n",
       "    <tr>\n",
       "      <th>2</th>\n",
       "      <td>DUI ALCOHOL</td>\n",
       "      <td>-111.894062</td>\n",
       "      <td>40.759542</td>\n",
       "    </tr>\n",
       "    <tr>\n",
       "      <th>3</th>\n",
       "      <td>ALCOHOL IN VEH</td>\n",
       "      <td>-111.971064</td>\n",
       "      <td>40.776482</td>\n",
       "    </tr>\n",
       "    <tr>\n",
       "      <th>4</th>\n",
       "      <td>DUI ALCOHOL</td>\n",
       "      <td>-111.891190</td>\n",
       "      <td>40.749720</td>\n",
       "    </tr>\n",
       "    <tr>\n",
       "      <th>5</th>\n",
       "      <td>HIT AND RUN</td>\n",
       "      <td>-111.880435</td>\n",
       "      <td>40.760737</td>\n",
       "    </tr>\n",
       "    <tr>\n",
       "      <th>6</th>\n",
       "      <td>DUI ALCOHOL</td>\n",
       "      <td>-111.885360</td>\n",
       "      <td>40.747617</td>\n",
       "    </tr>\n",
       "    <tr>\n",
       "      <th>7</th>\n",
       "      <td>PUBLIC PEACE</td>\n",
       "      <td>-111.848726</td>\n",
       "      <td>40.779466</td>\n",
       "    </tr>\n",
       "    <tr>\n",
       "      <th>8</th>\n",
       "      <td>PUBLIC ORDER</td>\n",
       "      <td>-111.923397</td>\n",
       "      <td>40.746762</td>\n",
       "    </tr>\n",
       "    <tr>\n",
       "      <th>9</th>\n",
       "      <td>ASSAULT</td>\n",
       "      <td>-111.877815</td>\n",
       "      <td>40.755069</td>\n",
       "    </tr>\n",
       "    <tr>\n",
       "      <th>10</th>\n",
       "      <td>ASSAULT</td>\n",
       "      <td>-111.899659</td>\n",
       "      <td>40.738449</td>\n",
       "    </tr>\n",
       "    <tr>\n",
       "      <th>11</th>\n",
       "      <td>ASSAULT</td>\n",
       "      <td>-111.942944</td>\n",
       "      <td>40.801850</td>\n",
       "    </tr>\n",
       "    <tr>\n",
       "      <th>12</th>\n",
       "      <td>ASSAULT</td>\n",
       "      <td>-111.897602</td>\n",
       "      <td>40.743399</td>\n",
       "    </tr>\n",
       "    <tr>\n",
       "      <th>13</th>\n",
       "      <td>STOLEN VEHICLE</td>\n",
       "      <td>-111.897747</td>\n",
       "      <td>40.765079</td>\n",
       "    </tr>\n",
       "    <tr>\n",
       "      <th>14</th>\n",
       "      <td>STOLEN VEHICLE</td>\n",
       "      <td>-111.872181</td>\n",
       "      <td>40.758402</td>\n",
       "    </tr>\n",
       "    <tr>\n",
       "      <th>15</th>\n",
       "      <td>ASSAULT</td>\n",
       "      <td>-111.895742</td>\n",
       "      <td>40.764916</td>\n",
       "    </tr>\n",
       "    <tr>\n",
       "      <th>16</th>\n",
       "      <td>LARCENY</td>\n",
       "      <td>-111.925406</td>\n",
       "      <td>40.784645</td>\n",
       "    </tr>\n",
       "    <tr>\n",
       "      <th>17</th>\n",
       "      <td>STOLEN VEHICLE</td>\n",
       "      <td>-111.885659</td>\n",
       "      <td>40.729680</td>\n",
       "    </tr>\n",
       "    <tr>\n",
       "      <th>18</th>\n",
       "      <td>PUBLIC ORDER</td>\n",
       "      <td>-111.869656</td>\n",
       "      <td>40.762747</td>\n",
       "    </tr>\n",
       "    <tr>\n",
       "      <th>19</th>\n",
       "      <td>STOLEN VEHICLE</td>\n",
       "      <td>-111.971064</td>\n",
       "      <td>40.776482</td>\n",
       "    </tr>\n",
       "  </tbody>\n",
       "</table>\n",
       "</div>"
      ],
      "text/plain": [
       "       description    latitude  longitude\n",
       "0   STOLEN VEHICLE -111.924569  40.737917\n",
       "1      DUI ALCOHOL -111.896897  40.758555\n",
       "2      DUI ALCOHOL -111.894062  40.759542\n",
       "3   ALCOHOL IN VEH -111.971064  40.776482\n",
       "4      DUI ALCOHOL -111.891190  40.749720\n",
       "5      HIT AND RUN -111.880435  40.760737\n",
       "6      DUI ALCOHOL -111.885360  40.747617\n",
       "7     PUBLIC PEACE -111.848726  40.779466\n",
       "8     PUBLIC ORDER -111.923397  40.746762\n",
       "9          ASSAULT -111.877815  40.755069\n",
       "10         ASSAULT -111.899659  40.738449\n",
       "11         ASSAULT -111.942944  40.801850\n",
       "12         ASSAULT -111.897602  40.743399\n",
       "13  STOLEN VEHICLE -111.897747  40.765079\n",
       "14  STOLEN VEHICLE -111.872181  40.758402\n",
       "15         ASSAULT -111.895742  40.764916\n",
       "16         LARCENY -111.925406  40.784645\n",
       "17  STOLEN VEHICLE -111.885659  40.729680\n",
       "18    PUBLIC ORDER -111.869656  40.762747\n",
       "19  STOLEN VEHICLE -111.971064  40.776482"
      ]
     },
     "execution_count": 37,
     "metadata": {},
     "output_type": "execute_result"
    }
   ],
   "source": [
    "T.head(20)"
   ]
  },
  {
   "cell_type": "code",
   "execution_count": 39,
   "metadata": {
    "scrolled": true
   },
   "outputs": [
    {
     "data": {
      "text/html": [
       "<div>\n",
       "<style scoped>\n",
       "    .dataframe tbody tr th:only-of-type {\n",
       "        vertical-align: middle;\n",
       "    }\n",
       "\n",
       "    .dataframe tbody tr th {\n",
       "        vertical-align: top;\n",
       "    }\n",
       "\n",
       "    .dataframe thead th {\n",
       "        text-align: right;\n",
       "    }\n",
       "</style>\n",
       "<table border=\"1\" class=\"dataframe\">\n",
       "  <thead>\n",
       "    <tr style=\"text-align: right;\">\n",
       "      <th></th>\n",
       "      <th>latitude</th>\n",
       "      <th>longitude</th>\n",
       "      <th>cluster_label</th>\n",
       "    </tr>\n",
       "  </thead>\n",
       "  <tbody>\n",
       "    <tr>\n",
       "      <th>count</th>\n",
       "      <td>55579.000000</td>\n",
       "      <td>55579.000000</td>\n",
       "      <td>55579.000000</td>\n",
       "    </tr>\n",
       "    <tr>\n",
       "      <th>mean</th>\n",
       "      <td>-111.755781</td>\n",
       "      <td>40.672947</td>\n",
       "      <td>1.449468</td>\n",
       "    </tr>\n",
       "    <tr>\n",
       "      <th>std</th>\n",
       "      <td>5.372417</td>\n",
       "      <td>3.058414</td>\n",
       "      <td>1.649322</td>\n",
       "    </tr>\n",
       "    <tr>\n",
       "      <th>min</th>\n",
       "      <td>-118.457241</td>\n",
       "      <td>-73.285003</td>\n",
       "      <td>0.000000</td>\n",
       "    </tr>\n",
       "    <tr>\n",
       "      <th>25%</th>\n",
       "      <td>-111.915513</td>\n",
       "      <td>40.739895</td>\n",
       "      <td>0.000000</td>\n",
       "    </tr>\n",
       "    <tr>\n",
       "      <th>50%</th>\n",
       "      <td>-111.899550</td>\n",
       "      <td>40.760534</td>\n",
       "      <td>0.000000</td>\n",
       "    </tr>\n",
       "    <tr>\n",
       "      <th>75%</th>\n",
       "      <td>-111.879530</td>\n",
       "      <td>40.767992</td>\n",
       "      <td>3.000000</td>\n",
       "    </tr>\n",
       "    <tr>\n",
       "      <th>max</th>\n",
       "      <td>88.421094</td>\n",
       "      <td>40.840264</td>\n",
       "      <td>4.000000</td>\n",
       "    </tr>\n",
       "  </tbody>\n",
       "</table>\n",
       "</div>"
      ],
      "text/plain": [
       "           latitude     longitude  cluster_label\n",
       "count  55579.000000  55579.000000   55579.000000\n",
       "mean    -111.755781     40.672947       1.449468\n",
       "std        5.372417      3.058414       1.649322\n",
       "min     -118.457241    -73.285003       0.000000\n",
       "25%     -111.915513     40.739895       0.000000\n",
       "50%     -111.899550     40.760534       0.000000\n",
       "75%     -111.879530     40.767992       3.000000\n",
       "max       88.421094     40.840264       4.000000"
      ]
     },
     "execution_count": 39,
     "metadata": {},
     "output_type": "execute_result"
    }
   ],
   "source": [
    "#Clustering the gps data of the dataset in 5 parts\n",
    "kmeans = KMeans(init=\"k-means++\", n_clusters=5, n_init=12)\n",
    "\n",
    "kmeans.fit(T[T.columns[1:3]]) # Compute k-means clustering.\n",
    "\n",
    "T['cluster_label'] = kmeans.fit_predict(T[T.columns[1:3]])\n",
    "\n",
    "centers = kmeans.cluster_centers_ # Coordinates of cluster centers.\n",
    "\n",
    "labels = kmeans.predict(T[T.columns[1:3]]) # Labels of each point\n",
    "#T.head(50)\n",
    "T.describe()#here i can be sure there are the same counts of lon and lat in the set to go further"
   ]
  },
  {
   "cell_type": "code",
   "execution_count": 43,
   "metadata": {},
   "outputs": [
    {
     "data": {
      "text/plain": [
       "array([[-111.90651896,   40.76176659],\n",
       "       [  88.42109444,  -73.28500298],\n",
       "       [-118.45724057,   38.11965276],\n",
       "       [-111.86734981,   40.73842012],\n",
       "       [-111.97128477,   40.77486885]])"
      ]
     },
     "execution_count": 43,
     "metadata": {},
     "output_type": "execute_result"
    }
   ],
   "source": [
    "centers# the center of position 2 is very strange and i decided to drop this center because i expect thats not a valid datapoint"
   ]
  },
  {
   "cell_type": "code",
   "execution_count": 44,
   "metadata": {},
   "outputs": [
    {
     "ename": "IndexError",
     "evalue": "index 3 is out of bounds for axis 1 with size 2",
     "output_type": "error",
     "traceback": [
      "\u001b[1;31m---------------------------------------------------------------------------\u001b[0m",
      "\u001b[1;31mIndexError\u001b[0m                                Traceback (most recent call last)",
      "\u001b[1;32m<ipython-input-44-7a513680ef1e>\u001b[0m in \u001b[0;36m<module>\u001b[1;34m\u001b[0m\n\u001b[0;32m      1\u001b[0m \u001b[0mT\u001b[0m\u001b[1;33m.\u001b[0m\u001b[0mplot\u001b[0m\u001b[1;33m.\u001b[0m\u001b[0mscatter\u001b[0m\u001b[1;33m(\u001b[0m\u001b[0mx\u001b[0m \u001b[1;33m=\u001b[0m \u001b[1;34m'latitude'\u001b[0m\u001b[1;33m,\u001b[0m \u001b[0my\u001b[0m \u001b[1;33m=\u001b[0m \u001b[1;34m'longitude'\u001b[0m\u001b[1;33m,\u001b[0m \u001b[0mc\u001b[0m\u001b[1;33m=\u001b[0m\u001b[0mlabels\u001b[0m\u001b[1;33m,\u001b[0m \u001b[0ms\u001b[0m\u001b[1;33m=\u001b[0m\u001b[1;36m100\u001b[0m\u001b[1;33m,\u001b[0m \u001b[0mcmap\u001b[0m\u001b[1;33m=\u001b[0m\u001b[1;34m'viridis'\u001b[0m\u001b[1;33m)\u001b[0m\u001b[1;33m\u001b[0m\u001b[1;33m\u001b[0m\u001b[0m\n\u001b[1;32m----> 2\u001b[1;33m \u001b[0mplt\u001b[0m\u001b[1;33m.\u001b[0m\u001b[0mscatter\u001b[0m\u001b[1;33m(\u001b[0m\u001b[0mcenters\u001b[0m\u001b[1;33m[\u001b[0m\u001b[1;33m:\u001b[0m\u001b[1;33m,\u001b[0m \u001b[1;36m3\u001b[0m\u001b[1;33m]\u001b[0m\u001b[1;33m,\u001b[0m \u001b[0mcenters\u001b[0m\u001b[1;33m[\u001b[0m\u001b[1;33m:\u001b[0m\u001b[1;33m,\u001b[0m \u001b[1;36m3\u001b[0m\u001b[1;33m]\u001b[0m\u001b[1;33m,\u001b[0m \u001b[0mc\u001b[0m\u001b[1;33m=\u001b[0m\u001b[1;34m'black'\u001b[0m\u001b[1;33m,\u001b[0m \u001b[0ms\u001b[0m\u001b[1;33m=\u001b[0m\u001b[1;36m200\u001b[0m\u001b[1;33m,\u001b[0m \u001b[0malpha\u001b[0m\u001b[1;33m=\u001b[0m\u001b[1;36m0.5\u001b[0m\u001b[1;33m)\u001b[0m\u001b[1;33m\u001b[0m\u001b[1;33m\u001b[0m\u001b[0m\n\u001b[0m",
      "\u001b[1;31mIndexError\u001b[0m: index 3 is out of bounds for axis 1 with size 2"
     ]
    },
    {
     "data": {
      "image/png": "[encoded data removed]",
      "text/plain": [
       "<Figure size 432x288 with 2 Axes>"
      ]
     },
     "metadata": {
      "needs_background": "light"
     },
     "output_type": "display_data"
    }
   ],
   "source": [
    "T.plot.scatter(x = 'latitude', y = 'longitude', c=labels, s=100, cmap='viridis')\n",
    "plt.scatter(centers[:, 3], centers[:, 3], c='black', s=200, alpha=0.5)"
   ]
  },
  {
   "cell_type": "code",
   "execution_count": null,
   "metadata": {},
   "outputs": [],
   "source": []
  },
  {
   "cell_type": "code",
   "execution_count": 45,
   "metadata": {},
   "outputs": [
    {
     "data": {
      "text/html": [
       "<div>\n",
       "<style scoped>\n",
       "    .dataframe tbody tr th:only-of-type {\n",
       "        vertical-align: middle;\n",
       "    }\n",
       "\n",
       "    .dataframe tbody tr th {\n",
       "        vertical-align: top;\n",
       "    }\n",
       "\n",
       "    .dataframe thead th {\n",
       "        text-align: right;\n",
       "    }\n",
       "</style>\n",
       "<table border=\"1\" class=\"dataframe\">\n",
       "  <thead>\n",
       "    <tr style=\"text-align: right;\">\n",
       "      <th></th>\n",
       "      <th>latitude</th>\n",
       "      <th>longitude</th>\n",
       "    </tr>\n",
       "    <tr>\n",
       "      <th>cluster_label</th>\n",
       "      <th></th>\n",
       "      <th></th>\n",
       "    </tr>\n",
       "  </thead>\n",
       "  <tbody>\n",
       "    <tr>\n",
       "      <th>0</th>\n",
       "      <td>-111.904947</td>\n",
       "      <td>40.761073</td>\n",
       "    </tr>\n",
       "    <tr>\n",
       "      <th>1</th>\n",
       "      <td>88.421094</td>\n",
       "      <td>-73.285003</td>\n",
       "    </tr>\n",
       "    <tr>\n",
       "      <th>2</th>\n",
       "      <td>-118.457241</td>\n",
       "      <td>38.119653</td>\n",
       "    </tr>\n",
       "    <tr>\n",
       "      <th>3</th>\n",
       "      <td>-111.866222</td>\n",
       "      <td>40.737924</td>\n",
       "    </tr>\n",
       "    <tr>\n",
       "      <th>4</th>\n",
       "      <td>-111.966934</td>\n",
       "      <td>40.774278</td>\n",
       "    </tr>\n",
       "  </tbody>\n",
       "</table>\n",
       "</div>"
      ],
      "text/plain": [
       "                 latitude  longitude\n",
       "cluster_label                       \n",
       "0             -111.904947  40.761073\n",
       "1               88.421094 -73.285003\n",
       "2             -118.457241  38.119653\n",
       "3             -111.866222  40.737924\n",
       "4             -111.966934  40.774278"
      ]
     },
     "execution_count": 45,
     "metadata": {},
     "output_type": "execute_result"
    }
   ],
   "source": [
    "T.groupby('cluster_label').mean()"
   ]
  },
  {
   "cell_type": "code",
   "execution_count": 46,
   "metadata": {},
   "outputs": [
    {
     "data": {
      "text/html": [
       "<div>\n",
       "<style scoped>\n",
       "    .dataframe tbody tr th:only-of-type {\n",
       "        vertical-align: middle;\n",
       "    }\n",
       "\n",
       "    .dataframe tbody tr th {\n",
       "        vertical-align: top;\n",
       "    }\n",
       "\n",
       "    .dataframe thead th {\n",
       "        text-align: right;\n",
       "    }\n",
       "</style>\n",
       "<table border=\"1\" class=\"dataframe\">\n",
       "  <thead>\n",
       "    <tr style=\"text-align: right;\">\n",
       "      <th></th>\n",
       "      <th>description</th>\n",
       "      <th>latitude</th>\n",
       "      <th>longitude</th>\n",
       "      <th>cluster_label</th>\n",
       "    </tr>\n",
       "  </thead>\n",
       "  <tbody>\n",
       "    <tr>\n",
       "      <th>0</th>\n",
       "      <td>STOLEN VEHICLE</td>\n",
       "      <td>-111.924569</td>\n",
       "      <td>40.737917</td>\n",
       "      <td>0</td>\n",
       "    </tr>\n",
       "    <tr>\n",
       "      <th>1</th>\n",
       "      <td>DUI ALCOHOL</td>\n",
       "      <td>-111.896897</td>\n",
       "      <td>40.758555</td>\n",
       "      <td>0</td>\n",
       "    </tr>\n",
       "    <tr>\n",
       "      <th>2</th>\n",
       "      <td>DUI ALCOHOL</td>\n",
       "      <td>-111.894062</td>\n",
       "      <td>40.759542</td>\n",
       "      <td>0</td>\n",
       "    </tr>\n",
       "    <tr>\n",
       "      <th>3</th>\n",
       "      <td>ALCOHOL IN VEH</td>\n",
       "      <td>-111.971064</td>\n",
       "      <td>40.776482</td>\n",
       "      <td>4</td>\n",
       "    </tr>\n",
       "    <tr>\n",
       "      <th>4</th>\n",
       "      <td>DUI ALCOHOL</td>\n",
       "      <td>-111.891190</td>\n",
       "      <td>40.749720</td>\n",
       "      <td>0</td>\n",
       "    </tr>\n",
       "    <tr>\n",
       "      <th>5</th>\n",
       "      <td>HIT AND RUN</td>\n",
       "      <td>-111.880435</td>\n",
       "      <td>40.760737</td>\n",
       "      <td>3</td>\n",
       "    </tr>\n",
       "    <tr>\n",
       "      <th>6</th>\n",
       "      <td>DUI ALCOHOL</td>\n",
       "      <td>-111.885360</td>\n",
       "      <td>40.747617</td>\n",
       "      <td>3</td>\n",
       "    </tr>\n",
       "    <tr>\n",
       "      <th>7</th>\n",
       "      <td>PUBLIC PEACE</td>\n",
       "      <td>-111.848726</td>\n",
       "      <td>40.779466</td>\n",
       "      <td>3</td>\n",
       "    </tr>\n",
       "    <tr>\n",
       "      <th>8</th>\n",
       "      <td>PUBLIC ORDER</td>\n",
       "      <td>-111.923397</td>\n",
       "      <td>40.746762</td>\n",
       "      <td>0</td>\n",
       "    </tr>\n",
       "    <tr>\n",
       "      <th>9</th>\n",
       "      <td>ASSAULT</td>\n",
       "      <td>-111.877815</td>\n",
       "      <td>40.755069</td>\n",
       "      <td>3</td>\n",
       "    </tr>\n",
       "    <tr>\n",
       "      <th>10</th>\n",
       "      <td>ASSAULT</td>\n",
       "      <td>-111.899659</td>\n",
       "      <td>40.738449</td>\n",
       "      <td>0</td>\n",
       "    </tr>\n",
       "    <tr>\n",
       "      <th>11</th>\n",
       "      <td>ASSAULT</td>\n",
       "      <td>-111.942944</td>\n",
       "      <td>40.801850</td>\n",
       "      <td>4</td>\n",
       "    </tr>\n",
       "    <tr>\n",
       "      <th>12</th>\n",
       "      <td>ASSAULT</td>\n",
       "      <td>-111.897602</td>\n",
       "      <td>40.743399</td>\n",
       "      <td>0</td>\n",
       "    </tr>\n",
       "    <tr>\n",
       "      <th>13</th>\n",
       "      <td>STOLEN VEHICLE</td>\n",
       "      <td>-111.897747</td>\n",
       "      <td>40.765079</td>\n",
       "      <td>0</td>\n",
       "    </tr>\n",
       "    <tr>\n",
       "      <th>14</th>\n",
       "      <td>STOLEN VEHICLE</td>\n",
       "      <td>-111.872181</td>\n",
       "      <td>40.758402</td>\n",
       "      <td>3</td>\n",
       "    </tr>\n",
       "    <tr>\n",
       "      <th>15</th>\n",
       "      <td>ASSAULT</td>\n",
       "      <td>-111.895742</td>\n",
       "      <td>40.764916</td>\n",
       "      <td>0</td>\n",
       "    </tr>\n",
       "    <tr>\n",
       "      <th>16</th>\n",
       "      <td>LARCENY</td>\n",
       "      <td>-111.925406</td>\n",
       "      <td>40.784645</td>\n",
       "      <td>0</td>\n",
       "    </tr>\n",
       "    <tr>\n",
       "      <th>17</th>\n",
       "      <td>STOLEN VEHICLE</td>\n",
       "      <td>-111.885659</td>\n",
       "      <td>40.729680</td>\n",
       "      <td>3</td>\n",
       "    </tr>\n",
       "    <tr>\n",
       "      <th>18</th>\n",
       "      <td>PUBLIC ORDER</td>\n",
       "      <td>-111.869656</td>\n",
       "      <td>40.762747</td>\n",
       "      <td>3</td>\n",
       "    </tr>\n",
       "    <tr>\n",
       "      <th>19</th>\n",
       "      <td>STOLEN VEHICLE</td>\n",
       "      <td>-111.971064</td>\n",
       "      <td>40.776482</td>\n",
       "      <td>4</td>\n",
       "    </tr>\n",
       "  </tbody>\n",
       "</table>\n",
       "</div>"
      ],
      "text/plain": [
       "       description    latitude  longitude  cluster_label\n",
       "0   STOLEN VEHICLE -111.924569  40.737917              0\n",
       "1      DUI ALCOHOL -111.896897  40.758555              0\n",
       "2      DUI ALCOHOL -111.894062  40.759542              0\n",
       "3   ALCOHOL IN VEH -111.971064  40.776482              4\n",
       "4      DUI ALCOHOL -111.891190  40.749720              0\n",
       "5      HIT AND RUN -111.880435  40.760737              3\n",
       "6      DUI ALCOHOL -111.885360  40.747617              3\n",
       "7     PUBLIC PEACE -111.848726  40.779466              3\n",
       "8     PUBLIC ORDER -111.923397  40.746762              0\n",
       "9          ASSAULT -111.877815  40.755069              3\n",
       "10         ASSAULT -111.899659  40.738449              0\n",
       "11         ASSAULT -111.942944  40.801850              4\n",
       "12         ASSAULT -111.897602  40.743399              0\n",
       "13  STOLEN VEHICLE -111.897747  40.765079              0\n",
       "14  STOLEN VEHICLE -111.872181  40.758402              3\n",
       "15         ASSAULT -111.895742  40.764916              0\n",
       "16         LARCENY -111.925406  40.784645              0\n",
       "17  STOLEN VEHICLE -111.885659  40.729680              3\n",
       "18    PUBLIC ORDER -111.869656  40.762747              3\n",
       "19  STOLEN VEHICLE -111.971064  40.776482              4"
      ]
     },
     "execution_count": 46,
     "metadata": {},
     "output_type": "execute_result"
    }
   ],
   "source": [
    "T.head(20)"
   ]
  },
  {
   "cell_type": "code",
   "execution_count": 47,
   "metadata": {},
   "outputs": [
    {
     "data": {
      "text/plain": [
       "0    30895\n",
       "3    18052\n",
       "4     6590\n",
       "1       40\n",
       "2        2\n",
       "Name: cluster_label, dtype: int64"
      ]
     },
     "execution_count": 47,
     "metadata": {},
     "output_type": "execute_result"
    }
   ],
   "source": [
    "T.describe()\n",
    "T['cluster_label'].value_counts()   "
   ]
  },
  {
   "cell_type": "code",
   "execution_count": 48,
   "metadata": {},
   "outputs": [],
   "source": [
    "# i delete the data points with label 1, which represents the strange lon and lat above and further i deleted the label 3, because ther a only 2 crimes\n",
    "ge = T[T.cluster_label != 1]\n",
    "ged = ge[ge.cluster_label != 2]"
   ]
  },
  {
   "cell_type": "code",
   "execution_count": 49,
   "metadata": {},
   "outputs": [
    {
     "data": {
      "text/plain": [
       "0    30895\n",
       "3    18052\n",
       "4     6590\n",
       "Name: cluster_label, dtype: int64"
      ]
     },
     "execution_count": 49,
     "metadata": {},
     "output_type": "execute_result"
    }
   ],
   "source": [
    "ged['cluster_label'].value_counts() "
   ]
  },
  {
   "cell_type": "code",
   "execution_count": 50,
   "metadata": {},
   "outputs": [
    {
     "data": {
      "text/html": [
       "<div>\n",
       "<style scoped>\n",
       "    .dataframe tbody tr th:only-of-type {\n",
       "        vertical-align: middle;\n",
       "    }\n",
       "\n",
       "    .dataframe tbody tr th {\n",
       "        vertical-align: top;\n",
       "    }\n",
       "\n",
       "    .dataframe thead th {\n",
       "        text-align: right;\n",
       "    }\n",
       "</style>\n",
       "<table border=\"1\" class=\"dataframe\">\n",
       "  <thead>\n",
       "    <tr style=\"text-align: right;\">\n",
       "      <th></th>\n",
       "      <th>crime</th>\n",
       "      <th>lon</th>\n",
       "      <th>lat</th>\n",
       "    </tr>\n",
       "  </thead>\n",
       "  <tbody>\n",
       "    <tr>\n",
       "      <th>0</th>\n",
       "      <td>30895</td>\n",
       "      <td>-111.906519</td>\n",
       "      <td>40.761767</td>\n",
       "    </tr>\n",
       "    <tr>\n",
       "      <th>1</th>\n",
       "      <td>18052</td>\n",
       "      <td>-111.867350</td>\n",
       "      <td>40.738420</td>\n",
       "    </tr>\n",
       "    <tr>\n",
       "      <th>2</th>\n",
       "      <td>6590</td>\n",
       "      <td>-111.971285</td>\n",
       "      <td>40.774869</td>\n",
       "    </tr>\n",
       "  </tbody>\n",
       "</table>\n",
       "</div>"
      ],
      "text/plain": [
       "   crime         lon        lat\n",
       "0  30895 -111.906519  40.761767\n",
       "1  18052 -111.867350  40.738420\n",
       "2   6590 -111.971285  40.774869"
      ]
     },
     "execution_count": 50,
     "metadata": {},
     "output_type": "execute_result"
    }
   ],
   "source": [
    "\n",
    "#create center and the crime rate according to it\n",
    "data = [['30895',-111.90651896, 40.76176659], ['18052', -111.86734981, 40.73842012], ['6590', -111.97128477,40.77486885]] \n",
    "crime_gps = pd.DataFrame(data, columns = ['crime', 'lon','lat']) \n",
    "crime_gps"
   ]
  },
  {
   "cell_type": "code",
   "execution_count": 51,
   "metadata": {},
   "outputs": [],
   "source": [
    "\n",
    "#crime_gps.lat[0]"
   ]
  },
  {
   "cell_type": "code",
   "execution_count": 52,
   "metadata": {},
   "outputs": [
    {
     "data": {
      "text/html": [
       "<div>\n",
       "<style scoped>\n",
       "    .dataframe tbody tr th:only-of-type {\n",
       "        vertical-align: middle;\n",
       "    }\n",
       "\n",
       "    .dataframe tbody tr th {\n",
       "        vertical-align: top;\n",
       "    }\n",
       "\n",
       "    .dataframe thead th {\n",
       "        text-align: right;\n",
       "    }\n",
       "</style>\n",
       "<table border=\"1\" class=\"dataframe\">\n",
       "  <thead>\n",
       "    <tr style=\"text-align: right;\">\n",
       "      <th></th>\n",
       "      <th>spot</th>\n",
       "      <th>lon</th>\n",
       "      <th>lat</th>\n",
       "    </tr>\n",
       "  </thead>\n",
       "  <tbody>\n",
       "    <tr>\n",
       "      <th>0</th>\n",
       "      <td>spot1</td>\n",
       "      <td>-111.934571</td>\n",
       "      <td>40.740516</td>\n",
       "    </tr>\n",
       "    <tr>\n",
       "      <th>1</th>\n",
       "      <td>spot2</td>\n",
       "      <td>-112.015679</td>\n",
       "      <td>40.754463</td>\n",
       "    </tr>\n",
       "    <tr>\n",
       "      <th>2</th>\n",
       "      <td>spot3</td>\n",
       "      <td>-111.939156</td>\n",
       "      <td>40.797924</td>\n",
       "    </tr>\n",
       "  </tbody>\n",
       "</table>\n",
       "</div>"
      ],
      "text/plain": [
       "    spot         lon        lat\n",
       "0  spot1 -111.934571  40.740516\n",
       "1  spot2 -112.015679  40.754463\n",
       "2  spot3 -111.939156  40.797924"
      ]
     },
     "execution_count": 52,
     "metadata": {},
     "output_type": "execute_result"
    }
   ],
   "source": [
    "data2= [['spot1',-111.934571 ,40.740516],['spot2',-112.015679,40.754463],['spot3',-111.939156,40.797924]]\n",
    "other_spots = pd.DataFrame(data2, columns =['spot','lon','lat'])\n",
    "\n",
    "other_spots\n",
    "#"
   ]
  },
  {
   "cell_type": "code",
   "execution_count": 53,
   "metadata": {},
   "outputs": [
    {
     "name": "stdout",
     "output_type": "stream",
     "text": [
      "The geograpical coordinate of New York City are 40.7596198, -111.8867975.\n"
     ]
    }
   ],
   "source": [
    "#get lon and lat from Salt Lake City\n",
    "from geopy.geocoders import Nominatim\n",
    "address = 'Salt Lake City, Utah'\n",
    "\n",
    "geolocator = Nominatim(user_agent=\"ny_explorer\")\n",
    "location = geolocator.geocode(address)\n",
    "latitudeSALT = location.latitude\n",
    "longitudeSALT = location.longitude\n",
    "print('The geograpical coordinate of New York City are {}, {}.'.format(latitudeSALT, longitudeSALT))"
   ]
  },
  {
   "cell_type": "code",
   "execution_count": 54,
   "metadata": {},
   "outputs": [
    {
     "data": {
      "text/html": [
       "<div style=\"width:100%;\"><div style=\"position:relative;width:100%;height:0;padding-bottom:60%;\"><iframe src=\"about:blank\" style=\"position:absolute;width:100%;height:100%;left:0;top:0;border:none !important;\" data-html=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 onload=\"this.contentDocument.open();this.contentDocument.write(atob(this.getAttribute('data-html')));this.contentDocument.close();\" allowfullscreen webkitallowfullscreen mozallowfullscreen></iframe></div></div>"
      ],
      "text/plain": [
       "<folium.folium.Map at 0x1a98a461948>"
      ]
     },
     "execution_count": 54,
     "metadata": {},
     "output_type": "execute_result"
    }
   ],
   "source": [
    "m = folium.Map(\n",
    "    location=[latitudeSALT,longitudeSALT],\n",
    "    tiles='Stamen Toner',\n",
    "    zoom_start=12\n",
    ")\n",
    "# Make a data frame with dots to show on the map\n",
    "data = pd.DataFrame({\n",
    "'lon':[crime_gps.lon[0],crime_gps.lon[1],crime_gps.lon[2]],\n",
    "'lat':[crime_gps.lat[0],crime_gps.lat[1],crime_gps.lat[2]],\n",
    "'crime':[crime_gps.crime[0],crime_gps.crime[1], crime_gps.crime[2]]\n",
    "})\n",
    "for i in range(0,3):\n",
    "    folium.Marker([data.iloc[i]['lat'], data.iloc[i]['lon']], popup=data.iloc[i]['crime'],icon = folium.Icon(color='green'),).add_to(m)\n",
    "    \n",
    "data2 = pd.DataFrame({\n",
    "'lon':[other_spots.lon[0],other_spots.lon[1],other_spots.lon[2]],\n",
    "'lat':[other_spots.lat[0],other_spots.lat[1],other_spots.lat[2]],\n",
    "'spot':[other_spots.spot[0],other_spots.spot[1], other_spots.spot[2]]\n",
    "})\n",
    "for i in range(0,3):\n",
    "    folium.Marker([data2.iloc[i]['lat'], data2.iloc[i]['lon']], popup=data2.iloc[i]['spot'],icon = folium.Icon(color='blue'),).add_to(m)\n",
    "# I can add marker one by one on the map\n",
    "\n",
    "m\n",
    "\n",
    "#display the \"Hotspots=centers of the cluster on the map of Salt Lake City in green\n",
    "#the other 3 spots i will compare to the cluster centers are displaced in blue \n"
   ]
  },
  {
   "cell_type": "code",
   "execution_count": null,
   "metadata": {},
   "outputs": [],
   "source": []
  },
  {
   "cell_type": "code",
   "execution_count": 91,
   "metadata": {},
   "outputs": [],
   "source": [
    "#Foursqure"
   ]
  },
  {
   "cell_type": "code",
   "execution_count": 92,
   "metadata": {},
   "outputs": [],
   "source": [
    "#get the venues on a radius of 400 arround the centers of the three crime clusters"
   ]
  },
  {
   "cell_type": "code",
   "execution_count": 56,
   "metadata": {},
   "outputs": [],
   "source": [
    "CLIENT_ID = 'xxx' # your Foursquare ID\n",
    "CLIENT_SECRET = 'xxx' # your Foursquare Secret\n",
    "VERSION = '20180604'\n",
    "LIMIT = 30\n",
    "radius= 400\n",
    "#print('Your credentails:')\n",
    "#print('CLIENT_ID: ' + CLIENT_ID)\n",
    "#print('CLIENT_SECRET:' + CLIENT_SECRET)\n"
   ]
  },
  {
   "cell_type": "code",
   "execution_count": 57,
   "metadata": {},
   "outputs": [],
   "source": [
    "url0 = 'https://api.foursquare.com/v2/venues/explore?client_id={}&client_secret={}&ll={},{}&v={}&radius={}&limit={}'.format(CLIENT_ID, CLIENT_SECRET, crime_gps.lat[0], crime_gps.lon[0], VERSION, radius, LIMIT)\n",
    "\n",
    "\n",
    "\n"
   ]
  },
  {
   "cell_type": "code",
   "execution_count": 58,
   "metadata": {},
   "outputs": [
    {
     "data": {
      "text/plain": [
       "'There are 14 venues around location 1.'"
      ]
     },
     "execution_count": 58,
     "metadata": {},
     "output_type": "execute_result"
    }
   ],
   "source": [
    "import requests\n",
    "results = requests.get(url0).json()\n",
    "'There are {} venues around location 1.'.format(len(results['response']['groups'][0]['items']))\n",
    "\n"
   ]
  },
  {
   "cell_type": "code",
   "execution_count": 59,
   "metadata": {},
   "outputs": [
    {
     "data": {
      "text/plain": [
       "'There are 5 venues around location 2.'"
      ]
     },
     "execution_count": 59,
     "metadata": {},
     "output_type": "execute_result"
    }
   ],
   "source": [
    "url1 = 'https://api.foursquare.com/v2/venues/explore?client_id={}&client_secret={}&ll={},{}&v={}&radius={}&limit={}'.format(CLIENT_ID, CLIENT_SECRET, crime_gps.lat[1], crime_gps.lon[1], VERSION, radius, LIMIT)\n",
    "\n",
    "\n",
    "results = requests.get(url1).json()\n",
    "'There are {} venues around location 2.'.format(len(results['response']['groups'][0]['items']))"
   ]
  },
  {
   "cell_type": "code",
   "execution_count": 60,
   "metadata": {},
   "outputs": [
    {
     "data": {
      "text/plain": [
       "'There are 1 venues around location 3.'"
      ]
     },
     "execution_count": 60,
     "metadata": {},
     "output_type": "execute_result"
    }
   ],
   "source": [
    "url2 = 'https://api.foursquare.com/v2/venues/explore?client_id={}&client_secret={}&ll={},{}&v={}&radius={}&limit={}'.format(CLIENT_ID, CLIENT_SECRET, crime_gps.lat[2], crime_gps.lon[2], VERSION, radius, LIMIT)\n",
    "\n",
    "\n",
    "results = requests.get(url2).json()\n",
    "'There are {} venues around location 3.'.format(len(results['response']['groups'][0]['items']))"
   ]
  },
  {
   "cell_type": "code",
   "execution_count": 98,
   "metadata": {},
   "outputs": [],
   "source": [
    "#get the venues on a radius arround the other three spots(blue) "
   ]
  },
  {
   "cell_type": "code",
   "execution_count": 61,
   "metadata": {},
   "outputs": [],
   "source": [
    "url_other1 = 'https://api.foursquare.com/v2/venues/explore?client_id={}&client_secret={}&ll={},{}&v={}&radius={}&limit={}'.format(CLIENT_ID, CLIENT_SECRET, other_spots.lat[0], other_spots.lon[0], VERSION, radius, LIMIT)\n",
    "\n",
    "url_other2 = 'https://api.foursquare.com/v2/venues/explore?client_id={}&client_secret={}&ll={},{}&v={}&radius={}&limit={}'.format(CLIENT_ID, CLIENT_SECRET, other_spots.lat[1], other_spots.lon[1], VERSION, radius, LIMIT)\n",
    "\n",
    "url_other3 = 'https://api.foursquare.com/v2/venues/explore?client_id={}&client_secret={}&ll={},{}&v={}&radius={}&limit={}'.format(CLIENT_ID, CLIENT_SECRET, other_spots.lat[2], other_spots.lon[2], VERSION, radius, LIMIT)\n"
   ]
  },
  {
   "cell_type": "code",
   "execution_count": 62,
   "metadata": {},
   "outputs": [
    {
     "data": {
      "text/plain": [
       "'There are 1 venues around location 1 of the other spot.'"
      ]
     },
     "execution_count": 62,
     "metadata": {},
     "output_type": "execute_result"
    }
   ],
   "source": [
    "results = requests.get(url_other1).json()\n",
    "'There are {} venues around location 1 of the other spot.'.format(len(results['response']['groups'][0]['items']))"
   ]
  },
  {
   "cell_type": "code",
   "execution_count": 63,
   "metadata": {},
   "outputs": [
    {
     "data": {
      "text/plain": [
       "'There are 1 venues around location 2.'"
      ]
     },
     "execution_count": 63,
     "metadata": {},
     "output_type": "execute_result"
    }
   ],
   "source": [
    "results = requests.get(url_other2).json()\n",
    "'There are {} venues around location 2.'.format(len(results['response']['groups'][0]['items']))"
   ]
  },
  {
   "cell_type": "code",
   "execution_count": 64,
   "metadata": {},
   "outputs": [
    {
     "data": {
      "text/plain": [
       "'There are 4 venues around location 3.'"
      ]
     },
     "execution_count": 64,
     "metadata": {},
     "output_type": "execute_result"
    }
   ],
   "source": [
    "results = requests.get(url_other3).json()\n",
    "'There are {} venues around location 3.'.format(len(results['response']['groups'][0]['items']))"
   ]
  },
  {
   "cell_type": "code",
   "execution_count": null,
   "metadata": {},
   "outputs": [],
   "source": []
  },
  {
   "cell_type": "code",
   "execution_count": 67,
   "metadata": {},
   "outputs": [
    {
     "data": {
      "text/plain": [
       "20"
      ]
     },
     "execution_count": 67,
     "metadata": {},
     "output_type": "execute_result"
    }
   ],
   "source": [
    "crime_spots =[14,5,1]\n",
    "sum(crime_spots)\n",
    "#there a in sum 20 venues arround the centers of the crime clusters ( green)"
   ]
  },
  {
   "cell_type": "code",
   "execution_count": 68,
   "metadata": {},
   "outputs": [
    {
     "data": {
      "text/plain": [
       "6"
      ]
     },
     "execution_count": 68,
     "metadata": {},
     "output_type": "execute_result"
    }
   ],
   "source": [
    "non_crime_spots = [1,1,4]\n",
    "sum(non_crime_spots)\n",
    "##there are in sum 6 venues arround the centers of the non crime spots ( blue)"
   ]
  },
  {
   "cell_type": "code",
   "execution_count": 69,
   "metadata": {},
   "outputs": [
    {
     "data": {
      "text/html": [
       "<div>\n",
       "<style scoped>\n",
       "    .dataframe tbody tr th:only-of-type {\n",
       "        vertical-align: middle;\n",
       "    }\n",
       "\n",
       "    .dataframe tbody tr th {\n",
       "        vertical-align: top;\n",
       "    }\n",
       "\n",
       "    .dataframe thead th {\n",
       "        text-align: right;\n",
       "    }\n",
       "</style>\n",
       "<table border=\"1\" class=\"dataframe\">\n",
       "  <thead>\n",
       "    <tr style=\"text-align: right;\">\n",
       "      <th></th>\n",
       "      <th>crime</th>\n",
       "      <th>lon</th>\n",
       "      <th>lat</th>\n",
       "      <th>venues_around</th>\n",
       "    </tr>\n",
       "  </thead>\n",
       "  <tbody>\n",
       "    <tr>\n",
       "      <th>0</th>\n",
       "      <td>30895</td>\n",
       "      <td>-111.906519</td>\n",
       "      <td>40.761767</td>\n",
       "      <td>14</td>\n",
       "    </tr>\n",
       "    <tr>\n",
       "      <th>1</th>\n",
       "      <td>18052</td>\n",
       "      <td>-111.867350</td>\n",
       "      <td>40.738420</td>\n",
       "      <td>5</td>\n",
       "    </tr>\n",
       "    <tr>\n",
       "      <th>2</th>\n",
       "      <td>6590</td>\n",
       "      <td>-111.971285</td>\n",
       "      <td>40.774869</td>\n",
       "      <td>1</td>\n",
       "    </tr>\n",
       "  </tbody>\n",
       "</table>\n",
       "</div>"
      ],
      "text/plain": [
       "   crime         lon        lat  venues_around\n",
       "0  30895 -111.906519  40.761767             14\n",
       "1  18052 -111.867350  40.738420              5\n",
       "2   6590 -111.971285  40.774869              1"
      ]
     },
     "execution_count": 69,
     "metadata": {},
     "output_type": "execute_result"
    }
   ],
   "source": [
    "#barchart of the crimes + total venues ,add list of venues to crime_gps\n",
    "crime_gps['venues_around']= crime_spots\n",
    "crime_gps"
   ]
  },
  {
   "cell_type": "code",
   "execution_count": 72,
   "metadata": {},
   "outputs": [
    {
     "data": {
      "image/png": "[encoded data removed]",
      "text/plain": [
       "<Figure size 360x432 with 1 Axes>"
      ]
     },
     "metadata": {
      "needs_background": "light"
     },
     "output_type": "display_data"
    }
   ],
   "source": [
    "plt.figure(figsize=(5,6))\n",
    "\n",
    "plt.bar(crime_gps.crime, crime_gps.venues_around,width=0.3)\n",
    " \n",
    "plt.title('number of venues arround each cluster-center(radius=400)')\n",
    "plt.ylabel('number of venues')\n",
    "plt.xlabel('total number of crimes in the cluster')\n",
    "\n",
    "plt.show()\n"
   ]
  },
  {
   "cell_type": "code",
   "execution_count": 94,
   "metadata": {},
   "outputs": [
    {
     "data": {
      "text/plain": [
       "array([[1.       , 0.9828037],\n",
       "       [0.9828037, 1.       ]])"
      ]
     },
     "execution_count": 94,
     "metadata": {},
     "output_type": "execute_result"
    }
   ],
   "source": [
    "r=np.corrcoef([30895,18052,6590], crime_gps.venues_around)\n",
    "r"
   ]
  },
  {
   "cell_type": "code",
   "execution_count": null,
   "metadata": {},
   "outputs": [],
   "source": [
    "#correlation between venues and crime "
   ]
  }
 ],
 "metadata": {
  "kernelspec": {
   "display_name": "Python 3",
   "language": "python",
   "name": "python3"
  },
  "language_info": {
   "codemirror_mode": {
    "name": "ipython",
    "version": 3
   },
   "file_extension": ".py",
   "mimetype": "text/x-python",
   "name": "python",
   "nbconvert_exporter": "python",
   "pygments_lexer": "ipython3",
   "version": "3.7.6"
  }
 },
 "nbformat": 4,
 "nbformat_minor": 4
}
